{
 "cells": [
  {
   "cell_type": "markdown",
   "id": "b4d66499",
   "metadata": {},
   "source": [
    "# Flagellar Motor Detection Model"
   ]
  },
  {
   "cell_type": "code",
   "execution_count": 9,
   "id": "e56a4b97",
   "metadata": {},
   "outputs": [
    {
     "name": "stdout",
     "output_type": "stream",
     "text": [
      "Current working directory:  /Users/anvesh/Documents/Machine_Learing/Flagellar Motor Detection/flagellar_motor_detection_project\n"
     ]
    }
   ],
   "source": [
    "import polars as pl\n",
    "import numpy as np \n",
    "import os \n",
    "import kagglehub\n",
    "os.chdir(\"..\")\n",
    "print( \"Current working directory: \", os.getcwd() )"
   ]
  }
 ],
 "metadata": {
  "kernelspec": {
   "display_name": "flagellar_motor_project",
   "language": "python",
   "name": "python3"
  },
  "language_info": {
   "codemirror_mode": {
    "name": "ipython",
    "version": 3
   },
   "file_extension": ".py",
   "mimetype": "text/x-python",
   "name": "python",
   "nbconvert_exporter": "python",
   "pygments_lexer": "ipython3",
   "version": "3.11.11"
  }
 },
 "nbformat": 4,
 "nbformat_minor": 5
}
